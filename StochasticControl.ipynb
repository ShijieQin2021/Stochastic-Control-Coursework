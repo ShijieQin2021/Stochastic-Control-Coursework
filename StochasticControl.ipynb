{
  "cells": [
    {
      "cell_type": "markdown",
      "metadata": {
        "id": "OIK_FD3cqGYu"
      },
      "source": [
        "# Stochastic Control "
      ]
    },
    {
      "cell_type": "code",
      "execution_count": 46,
      "metadata": {
        "id": "e677NJhrqGY2"
      },
      "outputs": [],
      "source": [
        "import numpy as np\n",
        "import pandas as pd\n",
        "import matplotlib.pyplot as plt\n",
        "from scipy.stats import norm\n",
        "import random"
      ]
    },
    {
      "cell_type": "markdown",
      "source": [
        "## Simulation of the performance of different controls"
      ],
      "metadata": {
        "id": "Ms1WUwJ2_Nss"
      }
    },
    {
      "cell_type": "code",
      "execution_count": 47,
      "metadata": {
        "id": "Dw9nS3ldqGY4"
      },
      "outputs": [],
      "source": [
        "# Simulation of our wealth\n",
        "def OptimalWealthSimulation(X, K, mu, r,sigma, gamma,rho, N, M, T):\n",
        "    dt = 1/N\n",
        "    pi = (mu - r) / (gamma * sigma**2)\n",
        "\n",
        "    alpha = (1/gamma) * (r*(1-gamma) - rho + (1-gamma)* (mu-r)**2 /(2*gamma* sigma**2))\n",
        "\n",
        "    def c(t, X):\n",
        "        return ((K**(1/gamma) + 1/alpha)* np.exp(alpha * (T-t)) - 1/alpha)**(-1) * X \n",
        "\n",
        "    wealth_data = {}\n",
        "\n",
        "    for sims in range(0, M):\n",
        "        wealth_sim = [X]\n",
        "        sim_wealth = X + ((r + (mu - r)*pi)*X - c(0,X))*dt + sigma*pi*X*np.sqrt(dt)*np.random.normal(0,1)\n",
        "        wealth_sim.append(sim_wealth)\n",
        "\n",
        "        for step in range(1, N):\n",
        "            sim_wealth = sim_wealth + ((r + (mu - r)*pi)*sim_wealth - c(step/N, sim_wealth))*dt + sigma*pi*sim_wealth*np.sqrt(dt)*np.random.normal(0,1)\n",
        "            wealth_sim.append(sim_wealth)\n",
        "        \n",
        "        wealth_data[sims] = wealth_sim\n",
        "\n",
        "    data = pd.DataFrame.from_dict(wealth_data,orient='columns')\n",
        "    \n",
        "    return data"
      ]
    },
    {
      "cell_type": "code",
      "execution_count": 48,
      "metadata": {
        "colab": {
          "base_uri": "https://localhost:8080/",
          "height": 359
        },
        "id": "ubv-0cmrqGY5",
        "outputId": "ffc2472d-cfdc-4df6-9b14-d8b55cf88d85"
      },
      "outputs": [
        {
          "output_type": "execute_result",
          "data": {
            "text/plain": [
              "(array([ 31., 122., 288., 267., 151.,  81.,  39.,  15.,   4.,   2.]),\n",
              " array([288.85875108, 359.87354193, 430.88833277, 501.90312362,\n",
              "        572.91791446, 643.93270531, 714.94749616, 785.962287  ,\n",
              "        856.97707785, 927.99186869, 999.00665954]),\n",
              " <a list of 10 Patch objects>)"
            ]
          },
          "metadata": {},
          "execution_count": 48
        },
        {
          "output_type": "display_data",
          "data": {
            "text/plain": [
              "<Figure size 432x288 with 1 Axes>"
            ],
            "image/png": "[encoded data removed]"
          },
          "metadata": {
            "needs_background": "light"
          }
        }
      ],
      "source": [
        "optimaldata = OptimalWealthSimulation(X = 1000, K = 1.0, mu=0.1, r=0.05, sigma=0.5, gamma=0.5, rho = 0.05, N=1000, M=1000, T=1)\n",
        "plt.hist(optimaldata.iloc[-1])"
      ]
    },
    {
      "cell_type": "code",
      "execution_count": 49,
      "metadata": {
        "colab": {
          "base_uri": "https://localhost:8080/"
        },
        "id": "rNQjBNoYqGY6",
        "outputId": "2df91f6e-ec1a-4d2c-9284-0046a238abd6"
      },
      "outputs": [
        {
          "output_type": "execute_result",
          "data": {
            "text/plain": [
              "530.3232971153187"
            ]
          },
          "metadata": {},
          "execution_count": 49
        }
      ],
      "source": [
        "np.mean(list(optimaldata.iloc[1000]))"
      ]
    },
    {
      "cell_type": "code",
      "execution_count": 50,
      "metadata": {
        "id": "E7lafbmSqGY7"
      },
      "outputs": [],
      "source": [
        "# Performance criterion\n",
        "def performance(data, K, gamma, r, mu, rho, sigma, T, N, M,C):\n",
        "    term = []\n",
        "    u1 = lambda x: x**(1-gamma)/(1-gamma)\n",
        "    u2 = lambda x : K*(x**(1-gamma)) / (1-gamma)\n",
        "\n",
        "    result = []\n",
        "\n",
        "    for i in range(0, M):\n",
        "        target = data.iloc[:,i]\n",
        "        x_list = list(target)\n",
        "        integral = []\n",
        "        \n",
        "        for j in range(0, N+1):\n",
        "            integral.append(np.exp(-rho*(j/1000)) * u1(C(j/1000, x_list[j])))\n",
        "        \n",
        "        result.append(0.5*(T/N)*(integral[0] + 2*sum(integral[1:N+1])+ integral[-1]) + np.exp(-rho*T)*u2(x_list[-1]))\n",
        "    \n",
        "    return np.mean(result), np.std(result) "
      ]
    },
    {
      "cell_type": "code",
      "execution_count": 52,
      "metadata": {
        "colab": {
          "base_uri": "https://localhost:8080/"
        },
        "id": "al-hPEBlqGY7",
        "outputId": "77913410-bd48-409c-e78a-d23b902bedbf"
      },
      "outputs": [
        {
          "output_type": "execute_result",
          "data": {
            "text/plain": [
              "(88.09692051815756, 0.4078929961541275)"
            ]
          },
          "metadata": {},
          "execution_count": 52
        }
      ],
      "source": [
        "X, K, mu, r, sigma, gamma, rho, T = 1000, 1, 0.1, 0.05, 0.5, 0.5, 0.05, 1 \n",
        "alpha = (1/gamma) * (r*(1-gamma) - rho + (1-gamma)* (mu-r)**2 /(2*gamma* sigma**2))\n",
        "\n",
        "def c(t, X):\n",
        "    return ((K**(1/gamma) + 1/alpha)* np.exp(alpha * (T-t)) - 1/alpha)**(-1) * X \n",
        "\n",
        "optimal_mean, optimal_std = performance(data = optimaldata, K=1, gamma=0.5, r=0.05, mu=0.1, rho = 0.05, sigma = 0.5, T=1, N =1000, M=1000, C=c)\n",
        "optimal_mean, optimal_std*1.96 / np.sqrt(1000)"
      ]
    },
    {
      "cell_type": "markdown",
      "metadata": {
        "id": "MVkoXGrxqGY8"
      },
      "source": [
        "$$ \\frac{dW_t}{W_t} = (r + \\frac{(\\mu - r)^2}{\\sigma^2 \\gamma}  - \\frac{1}{F(t)} )dt + \\frac{(\\mu -r)}{\\sigma \\gamma}dB_t$$\n"
      ]
    },
    {
      "cell_type": "markdown",
      "metadata": {
        "id": "KXZjgTd4qGY9"
      },
      "source": [
        "Expected Portfolio Return is constant over time ($= r + \\frac{(\\mu - r)^2}{\\sigma^2 \\gamma}$) \\\n",
        "Fractional Consumption $\\frac{1}{F(t)}$ increases over time \\\n",
        "Expected Rate of Wealth Growth $r + \\frac{(\\mu - r)^2}{\\sigma^2 \\gamma} - \\frac{1}{F(t)}$ decreases over time \\\n",
        "Wealth Growth Volatility is constant ($= \\frac{\\mu - r}{\\sigma \\gamma}$)"
      ]
    },
    {
      "cell_type": "code",
      "execution_count": 10,
      "metadata": {
        "id": "yj0hAA1tqGY-",
        "outputId": "d5949e80-f668-42ea-9997-1d14e693e7ae",
        "colab": {
          "base_uri": "https://localhost:8080/",
          "height": 301
        }
      },
      "outputs": [
        {
          "output_type": "stream",
          "name": "stderr",
          "text": [
            "The PostScript backend does not support transparency; partially transparent artists will be rendered opaque.\n",
            "The PostScript backend does not support transparency; partially transparent artists will be rendered opaque.\n"
          ]
        },
        {
          "output_type": "display_data",
          "data": {
            "text/plain": [
              "<Figure size 432x288 with 1 Axes>"
            ],
            "image/png": "[encoded data removed]"
          },
          "metadata": {
            "needs_background": "light"
          }
        }
      ],
      "source": [
        "X, K, mu, r, sigma, gamma, rho, T = 1000, 1, 0.1, 0.05, 0.4, 0.05, 0.05, 1 \n",
        "#gamma = 0.05 to see the cross \n",
        "\n",
        "alpha = (1/gamma) * (r*(1-gamma) - rho + (1-gamma)* (mu-r)**2 /(2*gamma* sigma**2))\n",
        "F = lambda t: ((K**(1/gamma) + 1/alpha)* np.exp(alpha * (T-t)) - 1/alpha)**(-1) \n",
        "\n",
        "time = np.arange(0, 1 + 1/1000, 1/1000)\n",
        "vfunc = np.vectorize(F)\n",
        "plt.plot(time, vfunc(time), label = 'Fractional Consumption Rate')\n",
        "plt.axhline(y = r + (mu-r)**2/(sigma**2 *gamma), color = 'r', label = 'Expected Portfolio Return')\n",
        "plt.legend()\n",
        "plt.savefig('return.eps',format = 'eps')"
      ]
    },
    {
      "cell_type": "code",
      "execution_count": 11,
      "metadata": {
        "id": "2xCRR41zqGY_"
      },
      "outputs": [],
      "source": [
        "# Different Markov control \n",
        "def WealthSimulation(X, K, mu, r,sigma, gamma,rho, N, M, T, Pi, C):\n",
        "    dt = 1/N\n",
        "\n",
        "    wealth_data = {}\n",
        "\n",
        "    for sims in range(0, M):\n",
        "        wealth_sim = [X]\n",
        "        sim_wealth = X + ((r + (mu - r)*Pi(0))*X - C(0,X))*dt + sigma*Pi(0)*X*np.sqrt(dt)*np.random.normal(0,1)\n",
        "        wealth_sim.append(sim_wealth)\n",
        "\n",
        "        for step in range(1, N):\n",
        "            sim_wealth = sim_wealth + ((r + (mu - r)*Pi(step/N))*sim_wealth - C(step/N, sim_wealth))*dt + sigma*Pi(step/N)*sim_wealth*np.sqrt(dt)*np.random.normal(0,1)\n",
        "            wealth_sim.append(sim_wealth)\n",
        "        \n",
        "        wealth_data[sims] = wealth_sim\n",
        "\n",
        "    data = pd.DataFrame.from_dict(wealth_data,orient='columns')\n",
        "    \n",
        "    return data"
      ]
    },
    {
      "cell_type": "code",
      "execution_count": 12,
      "metadata": {
        "id": "7wX8QhNZqGZA"
      },
      "outputs": [],
      "source": [
        "gamma,rho,r,mu,sigma,k,T,x0 = 0.5,0.05,0.05,0.1,0.5,1,1,1000\n",
        "\n",
        "N = 1000\n",
        "M = 1000\n",
        "theta = [gamma,rho,r,mu,sigma,k,T,x0]\n",
        "\n",
        "def h(t,gamma,rho,r,mu,sigma,k,T):\n",
        "    alpha = 1/gamma*(r*(1-gamma)-rho+(1-gamma)*(mu-r)**2/(2*sigma**2*gamma))\n",
        "    h = (1/alpha+k**(1/gamma))*np.exp(alpha*(T-t))-1/alpha\n",
        "    #print(alpha)\n",
        "    return h\n",
        "\n",
        "def f(t,gamma,rho,r,mu,sigma,k,T):\n",
        "    f = h(t,gamma,rho,r,mu,sigma,k,T)**gamma\n",
        "    return f\n",
        "\n",
        "def g(x,gamma):\n",
        "    g = x**(1-gamma)/(1-gamma)\n",
        "    return g\n",
        "    \n",
        "def H(t,x,gamma,rho,r,mu,sigma,k,T):\n",
        "    H = f(t,gamma,rho,r,mu,sigma,k,T)*g(x,gamma)\n",
        "    return H\n",
        "\n",
        "def pi_star(t,x,gamma,rho,r,mu,sigma,k,T):\n",
        "    pi = (mu-r)/(gamma*sigma**2)\n",
        "    return pi\n",
        "\n",
        "def c_star(t,x,gamma,rho,r,mu,sigma,k,T):\n",
        "    c = x/h(t,gamma,rho,r,mu,sigma,k,T)\n",
        "    return c\n",
        "\n",
        "def pi_1(t,x,gamma,rho,r,mu,sigma,k,T):\n",
        "    return 0.4 + 0.6*t\n",
        "\n",
        "def pi_2(t,x,gamma,rho,r,mu,sigma,k,T):\n",
        "    return 1.0 - 0.4*t\n",
        "\n",
        "def c_1(t,x,gamma,rho,r,mu,sigma,k,T):\n",
        "    return 0.5*x\n",
        "    \n",
        "def c_2(t,x,gamma,rho,r,mu,sigma,k,T):\n",
        "    return 0.8*np.exp(np.log(1/2)*t) * x\n",
        "\n",
        "def simulation_x(theta,pi,c,N,M):\n",
        "    gamma,rho,r,mu,sigma,k,T,x0 = theta\n",
        "    spot = np.zeros((N+1,M))\n",
        "    spot[0,:] = x0\n",
        "    dt = T/N\n",
        "    t = np.arange(0,T+dt,dt)\n",
        "    diffusion = np.sqrt(dt)*sigma*np.random.normal(0,1,(N,M))\n",
        "    #print(diffusion)\n",
        "    c_history = []\n",
        "    \n",
        "    for i in range(N):\n",
        "        x = spot[i,:]\n",
        "        _pi = pi(t[i],x,gamma,rho,r,mu,sigma,k,T)\n",
        "        _c = c(t[i],x,gamma,rho,r,mu,sigma,k,T)\n",
        "        drift = dt*((r+(mu-r)*_pi)*x-_c)\n",
        "        spot[i+1,:] = x+drift+diffusion[i,:]*_pi*x\n",
        "        #print(\"c:\",_c[0],\"x\",x[0])\n",
        "        c_history.append(_c)\n",
        "    return spot[-1,:],np.array(c_history)\n",
        "\n",
        "def utility(T,rho,gamma,c,x_T,k):\n",
        "    N = c.shape[0]\n",
        "    dt = T/N\n",
        "    t = np.arange(0,T,dt)\n",
        "    #calculate the integration part\n",
        "    part1 = dt*np.matmul(np.exp(-rho*t),c**(1-gamma)/(1-gamma))\n",
        "    part2 = np.exp(-rho*T)*x_T**(1-gamma)/(1-gamma)*k\n",
        "    #print(np.exp(-rho*t).shape)\n",
        "    criterian = part1 + part2\n",
        "    return criterian.mean(),criterian.std()\n"
      ]
    },
    {
      "cell_type": "code",
      "source": [
        "pi_list = [pi_star,pi_1,pi_2]\n",
        "c_list = [c_star,c_1,c_2]\n",
        "pi_name = [\"pi_star\",'pi_1','pi_2']\n",
        "c_name = [\"c_star\",'c_1','c_2']\n",
        "\n",
        "seed = random.randrange(0,100)\n",
        "\n",
        "for (c,name1) in zip(c_list,c_name):\n",
        "    u = []\n",
        "    for (pi,name2) in zip(pi_list,pi_name):\n",
        "        np.random.seed(seed)\n",
        "        result,c_history = simulation_x(theta,pi,c,N,M)\n",
        "        u = utility(T,rho,gamma,c_history,result,k)\n",
        "        print(\"Utility with\",name1,\"and\",name2,\":     \\t\",u[0],u[1]*1.96 / np.sqrt(1000))"
      ],
      "metadata": {
        "colab": {
          "base_uri": "https://localhost:8080/"
        },
        "id": "x4hdp-oSkudb",
        "outputId": "545efa77-7240-44d4-8fd3-e6143b9f23cc"
      },
      "execution_count": 53,
      "outputs": [
        {
          "output_type": "stream",
          "name": "stdout",
          "text": [
            "Utility with c_star and pi_star :     \t 88.0288534491793 0.42885468884929606\n",
            "Utility with c_star and pi_1 :     \t 87.80519782113677 0.7003068834772789\n",
            "Utility with c_star and pi_2 :     \t 87.56439844213234 0.9051483617846445\n",
            "Utility with c_1 and pi_star :     \t 87.38783186131411 0.43512970550442803\n",
            "Utility with c_1 and pi_1 :     \t 87.15515787921889 0.7198582509947905\n",
            "Utility with c_1 and pi_2 :     \t 86.9224816869583 0.913408184636199\n",
            "Utility with c_2 and pi_star :     \t 87.19310910087759 0.4208151364675723\n",
            "Utility with c_2 and pi_1 :     \t 86.97088028526899 0.6921083641464264\n",
            "Utility with c_2 and pi_2 :     \t 86.73940438738607 0.886112623708448\n"
          ]
        }
      ]
    },
    {
      "cell_type": "markdown",
      "source": [
        "## The Dependency of Optimal Control c* and Value Function H(x) on Parameter gamma\n"
      ],
      "metadata": {
        "id": "4VdXDpaY-vJq"
      }
    },
    {
      "cell_type": "code",
      "source": [
        "# Study the Dependency of Optimal Control c* and Value Function H(x) on Parameter gamma\n",
        "k1 = 0.5\n",
        "k2 = 2\n",
        "gamma = np.linspace(0.01,1,1000)\n",
        "c_gamma1 = c_star(0.5,1000,gamma,rho,r,mu,sigma,k1,T)\n",
        "c_gamma2 = c_star(0.5,1000,gamma,rho,r,mu,sigma,k2,T)\n",
        "plt.figure()\n",
        "plt.plot(gamma,c_gamma1,label = 'K=0.5')\n",
        "plt.plot(gamma,c_gamma2,label = 'K=2')\n",
        "plt.xlabel('gamma')\n",
        "plt.ylabel('c*')\n",
        "plt.legend()\n",
        "plt.show()\n",
        "\n",
        "k = 2\n",
        "gamma = np.linspace(0.01,0.999,100000)\n",
        "H_gamma = H(0,1000,gamma,rho,r,mu,sigma,k,T)\n",
        "plt.plot(gamma,H_gamma)\n",
        "plt.xlabel('gamma')\n",
        "plt.ylabel('H(x)')"
      ],
      "metadata": {
        "colab": {
          "base_uri": "https://localhost:8080/",
          "height": 559
        },
        "id": "_0BC6ZZj7B5B",
        "outputId": "3822c8ae-d3f3-4d28-d11c-588ebd6a9ae4"
      },
      "execution_count": 55,
      "outputs": [
        {
          "output_type": "display_data",
          "data": {
            "text/plain": [
              "<Figure size 432x288 with 1 Axes>"
            ],
            "image/png": "[encoded data removed]"
          },
          "metadata": {
            "needs_background": "light"
          }
        },
        {
          "output_type": "execute_result",
          "data": {
            "text/plain": [
              "Text(0, 0.5, 'H(x)')"
            ]
          },
          "metadata": {},
          "execution_count": 55
        },
        {
          "output_type": "display_data",
          "data": {
            "text/plain": [
              "<Figure size 432x288 with 1 Axes>"
            ],
            "image/png": "[encoded data removed]"
          },
          "metadata": {
            "needs_background": "light"
          }
        }
      ]
    },
    {
      "cell_type": "markdown",
      "source": [
        "##Distribution of $X_T$"
      ],
      "metadata": {
        "id": "CFpKg93Rekfs"
      }
    },
    {
      "cell_type": "code",
      "execution_count": null,
      "metadata": {
        "id": "bwzZtD7iDzbn"
      },
      "outputs": [],
      "source": [
        "def a(r, gamma, rho, mu, sigma):\n",
        "  return (1/gamma) * (r*(1-gamma) - rho + (1-gamma)* (mu-r)**2 /(2*gamma* sigma**2))\n",
        "\n",
        "def ifQualify(r, gamma, rho, mu, sigma, K, T, t=0): # h(t) must > 0\n",
        "  alpha = a(r, gamma, rho, mu, sigma)\n",
        "  return (K**(1/gamma) + 1/alpha)* np.exp(alpha * (T-t)) > 1/alpha\n"
      ]
    },
    {
      "cell_type": "markdown",
      "source": [
        "###$X_T(K)$"
      ],
      "metadata": {
        "id": "0hYbZlvUYyWg"
      }
    },
    {
      "cell_type": "code",
      "execution_count": null,
      "metadata": {
        "colab": {
          "base_uri": "https://localhost:8080/",
          "height": 439
        },
        "id": "h73fCqSNErTK",
        "outputId": "6a5aea3f-1e2c-43f8-dd83-3434bb33807a"
      },
      "outputs": [
        {
          "output_type": "stream",
          "name": "stdout",
          "text": [
            "K =  0.1 , qualified?  True\n",
            "K =  0.5 , qualified?  True\n",
            "K =  0.9 , qualified?  True\n",
            "K =  1.3 , qualified?  True\n",
            "K =  1.7 , qualified?  True\n",
            "K =  2.1 , qualified?  True\n",
            "K =  2.5 , qualified?  True\n",
            "K =  2.9 , qualified?  True\n"
          ]
        },
        {
          "output_type": "stream",
          "name": "stderr",
          "text": [
            "The PostScript backend does not support transparency; partially transparent artists will be rendered opaque.\n",
            "The PostScript backend does not support transparency; partially transparent artists will be rendered opaque.\n"
          ]
        },
        {
          "output_type": "display_data",
          "data": {
            "text/plain": [
              "<Figure size 432x288 with 1 Axes>"
            ],
            "image/png": "[encoded data removed]"
          },
          "metadata": {
            "needs_background": "light"
          }
        }
      ],
      "source": [
        "K_list = np.arange(0.1, 3, 0.4)\n",
        "K_list = [round(num, 2) for num in K_list]\n",
        "X, K, mu, r, sigma, gamma, rho, T, M = 1000, 1, 0.1, 0.05, 0.4, 0.05, 0.05, 1, 1000\n",
        "gamma = 1.5\n",
        "results_K = np.zeros((M, len(K_list))) # how X variate when K change\n",
        "performance_K = np.zeros((M, len(K_list))) # how performance change when K change\n",
        "\n",
        "count = 0\n",
        "for K in K_list:\n",
        "  print(\"K = \", K, \", qualified? \", ifQualify(r, gamma, rho, mu, sigma, K, T, 0))\n",
        "\n",
        "  optimaldata = OptimalWealthSimulation(X = 1000, K = K, mu=0.1, r=0.05, sigma=0.5, gamma=gamma, rho = 0.05, N=1000, M=1000, T=1)\n",
        "  #performance_k = np.zeros(M)\n",
        "  #for i in range(100):\n",
        "  #  optimaldata = OptimalWealthSimulation(X = 1000, K = K, mu=0.1, r=0.05, sigma=0.5, gamma=gamma, rho = 0.05, N=1000, M=1000, T=1)\n",
        "  #  alpha = a(r, gamma, rho, mu, sigma)\n",
        "  #  optimal_mean, _ = performance(data = optimaldata, K=K, gamma=gamma, r=0.05, mu=0.1, rho = 0.05, sigma = 0.5, T=1, N =1000, M=1000, C=c)\n",
        "  #  performance_k[i] = optimal_mean\n",
        "  \n",
        "  results_K[:, count] = optimaldata.iloc[-1]\n",
        "  #performance_K[:, count] = performance_k\n",
        "  plt.hist(optimaldata.iloc[1000], bins = 50, label = \"K = \" + str(K))\n",
        "  count += 1\n",
        "\n",
        "plt.legend(loc = \"upper right\")\n",
        "plt.savefig('var_K_hist.eps', format='eps')"
      ]
    },
    {
      "cell_type": "code",
      "source": [
        "df = pd.DataFrame(results_K, columns = K_list)\n",
        "df.boxplot()\n",
        "plt.xlabel(\"K\")\n",
        "plt.savefig('var_K_box_pc.eps', format='eps')"
      ],
      "metadata": {
        "colab": {
          "base_uri": "https://localhost:8080/",
          "height": 279
        },
        "id": "KNWaWqpF1C1d",
        "outputId": "addfabf7-d105-4962-d68d-cb667d2e4cac"
      },
      "execution_count": null,
      "outputs": [
        {
          "output_type": "display_data",
          "data": {
            "text/plain": [
              "<Figure size 432x288 with 1 Axes>"
            ],
            "image/png": "[encoded data removed]"
          },
          "metadata": {
            "needs_background": "light"
          }
        }
      ]
    },
    {
      "cell_type": "code",
      "source": [
        "gamma"
      ],
      "metadata": {
        "colab": {
          "base_uri": "https://localhost:8080/"
        },
        "id": "TRQzz40w_QDk",
        "outputId": "f13f18a9-93e3-49b2-cd1e-b9928ce56c20"
      },
      "execution_count": null,
      "outputs": [
        {
          "output_type": "execute_result",
          "data": {
            "text/plain": [
              "1.5"
            ]
          },
          "metadata": {},
          "execution_count": 9
        }
      ]
    },
    {
      "cell_type": "code",
      "execution_count": null,
      "metadata": {
        "colab": {
          "base_uri": "https://localhost:8080/",
          "height": 279
        },
        "id": "a_pDLVsSt5Bk",
        "outputId": "7096b456-fdbe-4bf2-aa09-4f94c7fe456b"
      },
      "outputs": [
        {
          "data": {
            "image/png": "[encoded data removed]",
            "text/plain": [
              "<Figure size 432x288 with 1 Axes>"
            ]
          },
          "metadata": {},
          "output_type": "display_data"
        }
      ],
      "source": [
        "df = pd.DataFrame(performance_K[:100,1:], columns = K_list[1:])\n",
        "df.boxplot()\n",
        "plt.xlabel(\"K\")\n",
        "plt.savefig('var_K_box_pc.eps', format='eps')"
      ]
    },
    {
      "cell_type": "code",
      "execution_count": null,
      "metadata": {
        "colab": {
          "base_uri": "https://localhost:8080/",
          "height": 462
        },
        "id": "BXTUx5rlw_pD",
        "outputId": "f2456cec-2a4b-4848-a724-8722500c0361"
      },
      "outputs": [
        {
          "data": {
            "text/plain": [
              "array([[<matplotlib.axes._subplots.AxesSubplot object at 0x7f8e485ee2d0>,\n",
              "        <matplotlib.axes._subplots.AxesSubplot object at 0x7f8e485e9890>,\n",
              "        <matplotlib.axes._subplots.AxesSubplot object at 0x7f8e480c3690>],\n",
              "       [<matplotlib.axes._subplots.AxesSubplot object at 0x7f8e478d8c90>,\n",
              "        <matplotlib.axes._subplots.AxesSubplot object at 0x7f8e48e302d0>,\n",
              "        <matplotlib.axes._subplots.AxesSubplot object at 0x7f8e47865910>],\n",
              "       [<matplotlib.axes._subplots.AxesSubplot object at 0x7f8e47b48f90>,\n",
              "        <matplotlib.axes._subplots.AxesSubplot object at 0x7f8e49778510>,\n",
              "        <matplotlib.axes._subplots.AxesSubplot object at 0x7f8e49778550>]],\n",
              "      dtype=object)"
            ]
          },
          "execution_count": 55,
          "metadata": {},
          "output_type": "execute_result"
        },
        {
          "data": {
            "image/png": "[encoded data removed]",
            "text/plain": [
              "<Figure size 432x288 with 9 Axes>"
            ]
          },
          "metadata": {},
          "output_type": "display_data"
        }
      ],
      "source": [
        "df.hist()"
      ]
    },
    {
      "cell_type": "code",
      "execution_count": null,
      "metadata": {
        "colab": {
          "base_uri": "https://localhost:8080/",
          "height": 266
        },
        "id": "j3PRMHqDBG-y",
        "outputId": "84662e0e-4731-4164-a055-c4d2bc1ee784"
      },
      "outputs": [
        {
          "data": {
            "image/png": "[encoded data removed]",
            "text/plain": [
              "<Figure size 432x288 with 1 Axes>"
            ]
          },
          "metadata": {},
          "output_type": "display_data"
        }
      ],
      "source": [
        "df = pd.DataFrame(results_K, columns=K_list)\n",
        "df.boxplot()\n",
        "plt.savefig('var_K_box.eps', format='eps')"
      ]
    },
    {
      "cell_type": "code",
      "execution_count": null,
      "metadata": {
        "id": "1-LFsVdTI3In"
      },
      "outputs": [],
      "source": [
        "df = pd.DataFrame(performance_K, columns=K_list)\n",
        "df.hist()\n",
        "plt.savefig('var_K_hist_performance.eps', format='eps')"
      ]
    },
    {
      "cell_type": "markdown",
      "source": [
        "###$X_T(\\mu)$ with $0 < \\gamma < 1$\n",
        "Note the behaviour of $X_T$ when $\\gamma > 1$ behave similarly as $\\gamma > 1$"
      ],
      "metadata": {
        "id": "6TqzomEfFbW1"
      }
    },
    {
      "cell_type": "code",
      "execution_count": null,
      "metadata": {
        "colab": {
          "base_uri": "https://localhost:8080/",
          "height": 473
        },
        "id": "J7rxbGcPDaUp",
        "outputId": "c3a9f5eb-5e50-49f4-b8ed-b6649419e145"
      },
      "outputs": [
        {
          "output_type": "stream",
          "name": "stdout",
          "text": [
            "mu =  -0.21 , qualified?  True\n",
            "mu =  -0.16 , qualified?  True\n",
            "mu =  -0.11 , qualified?  True\n",
            "mu =  -0.06 , qualified?  True\n",
            "mu =  -0.01 , qualified?  True\n",
            "mu =  0.04 , qualified?  True\n",
            "mu =  0.09 , qualified?  True\n",
            "mu =  0.14 , qualified?  True\n",
            "mu =  0.19 , qualified?  True\n",
            "mu =  0.24 , qualified?  True\n",
            "mu =  0.29 , qualified?  True\n"
          ]
        },
        {
          "output_type": "execute_result",
          "data": {
            "text/plain": [
              "<matplotlib.legend.Legend at 0x7f3f898b7250>"
            ]
          },
          "metadata": {},
          "execution_count": 7
        },
        {
          "output_type": "display_data",
          "data": {
            "text/plain": [
              "<Figure size 432x288 with 1 Axes>"
            ],
            "image/png": "[encoded data removed]"
          },
          "metadata": {
            "needs_background": "light"
          }
        }
      ],
      "source": [
        "mu_list = np.arange(-0.21, 0.3, 0.05)\n",
        "mu_list = [round(num, 2) for num in mu_list]\n",
        "X, K, mu, r, sigma, gamma, rho, T, M = 1000, 1, 0.1, 0.05, 0.5, 0.5, 0.05, 1, 1000\n",
        "results = np.zeros((M, len(mu_list)))\n",
        "\n",
        "performance_MU = np.zeros((100, len(mu_list)))                          \n",
        "count = 0\n",
        "for mu in mu_list:\n",
        "  print(\"mu = \", mu, \", qualified? \", ifQualify(r, gamma, rho, mu, sigma, K, T, 0))\n",
        "  optimaldata = OptimalWealthSimulation(X = 1000, K = 1, mu=mu, r=0.05, sigma=0.5, gamma=0.5, rho = 0.05, N=1000, M=1000, T=1)\n",
        "  #performance_mu = np.zeros(100)\n",
        "  #for i in range(100):\n",
        "  #  optimaldata = OptimalWealthSimulation(X = 1000, K = 1, mu=mu, r=0.05, sigma=0.5, gamma=0.5, rho = 0.05, N=1000, M=1000, T=1)\n",
        "  #  alpha = a(r, gamma, rho, mu, sigma)\n",
        "  #  optimal_mean, _ = performance(data = optimaldata, K=1, gamma=0.5, r=0.05, mu=mu, rho = 0.05, sigma = 0.5, T=1, N =1000, M=1000, C=c)\n",
        "  #  performance_mu[i] = optimal_mean\n",
        "  \n",
        "  #performance_MU[:, count] = performance_mu\n",
        "  results[:, count] = optimaldata.iloc[-1]\n",
        "  count += 1\n",
        "  plt.hist(optimaldata.iloc[1000], bins = 50, label = \"mu = \" + str(mu))\n",
        "plt.legend(loc = \"upper right\")\n"
      ]
    },
    {
      "cell_type": "code",
      "source": [
        "df = pd.DataFrame(results, columns = mu_list)\n",
        "df.boxplot()\n",
        "plt.xlabel(\"mu\")\n"
      ],
      "metadata": {
        "colab": {
          "base_uri": "https://localhost:8080/",
          "height": 296
        },
        "id": "NXxIenXa-9QQ",
        "outputId": "f2db1632-8782-417b-e0d5-d48b4b03f647"
      },
      "execution_count": null,
      "outputs": [
        {
          "output_type": "execute_result",
          "data": {
            "text/plain": [
              "Text(0.5, 0, 'mu')"
            ]
          },
          "metadata": {},
          "execution_count": 8
        },
        {
          "output_type": "display_data",
          "data": {
            "text/plain": [
              "<Figure size 432x288 with 1 Axes>"
            ],
            "image/png": "[encoded data removed]"
          },
          "metadata": {
            "needs_background": "light"
          }
        }
      ]
    },
    {
      "cell_type": "code",
      "source": [
        "df.apply(np.mean, axis = 0)"
      ],
      "metadata": {
        "colab": {
          "base_uri": "https://localhost:8080/"
        },
        "id": "R4mtmFRkBcOT",
        "outputId": "5b515a1e-3f53-4a3e-89b1-f59056dee450"
      },
      "execution_count": null,
      "outputs": [
        {
          "output_type": "execute_result",
          "data": {
            "text/plain": [
              "-0.21    1004.473200\n",
              "-0.16     783.735140\n",
              "-0.11     623.203553\n",
              "-0.06     572.793439\n",
              "-0.01     538.552384\n",
              " 0.04     520.219774\n",
              " 0.09     524.897260\n",
              " 0.14     557.587812\n",
              " 0.19     606.611777\n",
              " 0.24     685.373305\n",
              " 0.29     806.821874\n",
              "dtype: float64"
            ]
          },
          "metadata": {},
          "execution_count": 9
        }
      ]
    },
    {
      "cell_type": "code",
      "source": [
        "df.apply(np.median, axis = 0)"
      ],
      "metadata": {
        "colab": {
          "base_uri": "https://localhost:8080/"
        },
        "id": "XpLOOnGA_U8e",
        "outputId": "ea4b0abd-7ed1-42d1-ffdc-c4f5c60855b7"
      },
      "execution_count": null,
      "outputs": [
        {
          "output_type": "execute_result",
          "data": {
            "text/plain": [
              "-0.21    580.420233\n",
              "-0.16    538.017321\n",
              "-0.11    510.885510\n",
              "-0.06    506.241110\n",
              "-0.01    524.707557\n",
              " 0.04    519.727177\n",
              " 0.09    517.190777\n",
              " 0.14    522.467415\n",
              " 0.19    523.188454\n",
              " 0.24    512.750921\n",
              " 0.29    515.921237\n",
              "dtype: float64"
            ]
          },
          "metadata": {},
          "execution_count": 10
        }
      ]
    },
    {
      "cell_type": "code",
      "source": [
        "df.apply(np.std, axis = 0)"
      ],
      "metadata": {
        "colab": {
          "base_uri": "https://localhost:8080/"
        },
        "id": "S7F4Tcd3Dihx",
        "outputId": "ed20c476-41f4-4d6f-ac34-7e5dd36b304c"
      },
      "execution_count": null,
      "outputs": [
        {
          "output_type": "execute_result",
          "data": {
            "text/plain": [
              "-0.21    2145.958798\n",
              "-0.16     770.667837\n",
              "-0.11     459.268134\n",
              "-0.06     267.130087\n",
              "-0.01     127.689789\n",
              " 0.04      20.727781\n",
              " 0.09      85.179786\n",
              " 0.14     204.215838\n",
              " 0.19     364.192399\n",
              " 0.24     576.115007\n",
              " 0.29    1054.496296\n",
              "dtype: float64"
            ]
          },
          "metadata": {},
          "execution_count": 12
        }
      ]
    },
    {
      "cell_type": "code",
      "source": [
        "test = OptimalWealthSimulation(X = 1000, K = 1, mu=0.05, r=0.05, sigma=0.5, gamma=0.5, rho = 0.05, N=1000, M=1000, T=1)\n",
        "print(np.mean(test.iloc[-1]))\n",
        "print(np.std(test.iloc[-1]))"
      ],
      "metadata": {
        "colab": {
          "base_uri": "https://localhost:8080/"
        },
        "id": "_HPlo8nHDr_R",
        "outputId": "8e50f456-9a82-484f-96ae-a938335b1a51"
      },
      "execution_count": null,
      "outputs": [
        {
          "output_type": "stream",
          "name": "stdout",
          "text": [
            "519.0465862901793\n",
            "6.252776074688882e-12\n"
          ]
        }
      ]
    },
    {
      "cell_type": "code",
      "execution_count": null,
      "metadata": {
        "colab": {
          "base_uri": "https://localhost:8080/",
          "height": 279
        },
        "id": "g3dbj-I22dJT",
        "outputId": "3e2677fd-4419-4113-cca1-632c5c1f7d98"
      },
      "outputs": [
        {
          "data": {
            "image/png": "[encoded data removed]",
            "text/plain": [
              "<Figure size 432x288 with 1 Axes>"
            ]
          },
          "metadata": {},
          "output_type": "display_data"
        }
      ],
      "source": [
        "df = pd.DataFrame(performance_MU, columns = mu_list[:])\n",
        "df.boxplot()\n",
        "plt.xlabel(\"mu\")\n",
        "plt.savefig('var_mu_box_pc.eps', format='eps')\n",
        "df.to_csv('var_mu_pc.csv')"
      ]
    },
    {
      "cell_type": "code",
      "execution_count": null,
      "metadata": {
        "colab": {
          "base_uri": "https://localhost:8080/",
          "height": 265
        },
        "id": "zlf4dfXe6wq_",
        "outputId": "6e1cc656-721d-4dd8-f702-4ee14d67b656"
      },
      "outputs": [
        {
          "data": {
            "image/png": "[encoded data removed]",
            "text/plain": [
              "<Figure size 432x288 with 1 Axes>"
            ]
          },
          "metadata": {},
          "output_type": "display_data"
        }
      ],
      "source": [
        "df = pd.DataFrame(results, columns=mu_list)\n",
        "df.boxplot()\n",
        "plt.savefig('var_mu_box.eps', format='eps')"
      ]
    },
    {
      "cell_type": "markdown",
      "source": [
        "###$X_T(r)$"
      ],
      "metadata": {
        "id": "S31_44g8ZJ3c"
      }
    },
    {
      "cell_type": "code",
      "execution_count": null,
      "metadata": {
        "colab": {
          "base_uri": "https://localhost:8080/",
          "height": 465
        },
        "id": "SNOu01FPRig8",
        "outputId": "2437dd8a-7978-45e6-dbb5-1e85bb032038"
      },
      "outputs": [
        {
          "output_type": "stream",
          "name": "stdout",
          "text": [
            "r =  0.29 , qualified?  True\n",
            "r =  0.24 , qualified?  True\n",
            "r =  0.19 , qualified?  True\n",
            "r =  0.14 , qualified?  True\n",
            "r =  0.09 , qualified?  True\n",
            "r =  0.04 , qualified?  True\n",
            "r =  -0.01 , qualified?  True\n",
            "r =  -0.06 , qualified?  True\n",
            "r =  -0.11 , qualified?  True\n",
            "r =  -0.16 , qualified?  True\n"
          ]
        },
        {
          "output_type": "execute_result",
          "data": {
            "text/plain": [
              "<matplotlib.legend.Legend at 0x7f8f6f58d7d0>"
            ]
          },
          "metadata": {},
          "execution_count": 15
        },
        {
          "output_type": "display_data",
          "data": {
            "text/plain": [
              "<Figure size 432x288 with 1 Axes>"
            ],
            "image/png": "[encoded data removed]"
          },
          "metadata": {
            "needs_background": "light"
          }
        }
      ],
      "source": [
        "r_list = np.arange(0.29, -0.21, -0.05)\n",
        "r_list = [round(num, 2) for num in r_list]\n",
        "X, K, mu, r, sigma, gamma, rho, T, M = 1000, 1, 0.1, 0.05, 0.4, 0.5, 0.05, 1, 1000\n",
        "results_r = np.zeros((M, len(r_list)))\n",
        "performance_R = np.zeros((100, len(r_list)))\n",
        "\n",
        "count = 0\n",
        "for r in r_list:\n",
        "  print(\"r = \", r, \", qualified? \", ifQualify(r, gamma, rho, mu, sigma, K, T, 0))\n",
        "  optimaldata = OptimalWealthSimulation(X = 1000, K = 1, mu=0.1, r=r, sigma=0.5, gamma=0.5, rho = 0.05, N=1000, M=1000, T=1)\n",
        "  #performance_r = np.zeros(100)\n",
        "  #for i in range(100):\n",
        "  #  optimaldata = OptimalWealthSimulation(X = 1000, K = 1, mu=0.1, r=r, sigma=0.5, gamma=0.5, rho = 0.05, N=1000, M=1000, T=1)\n",
        "  #  alpha = a(r, gamma, rho, mu, sigma)\n",
        "  #  optimal_mean, _ = performance(data = optimaldata, K=1, gamma=0.5, r=r, mu=0.1, rho = 0.05, sigma = 0.5, T=1, N =1000, M=1000, C=c)\n",
        "  #  performance_r[i] = optimal_mean\n",
        "\n",
        "  #performance_R[:, count] = performance_r\n",
        "  results_r[:, count] = optimaldata.iloc[-1]\n",
        "  plt.hist(optimaldata.iloc[1000], bins = 50, label = \"r = \" + str(r))\n",
        "  count += 1\n",
        "plt.legend(loc = \"upper right\")\n",
        "#plt.savefig('var_r_hist.eps', format='eps')"
      ]
    },
    {
      "cell_type": "code",
      "source": [
        "df = pd.DataFrame(results_r, columns = r_list)\n",
        "df.boxplot()\n",
        "plt.xlabel(\"r\")"
      ],
      "metadata": {
        "colab": {
          "base_uri": "https://localhost:8080/",
          "height": 297
        },
        "id": "1EdwMp5qyGtT",
        "outputId": "c1836a84-3bbe-4e2a-db93-f3e4be9d7f66"
      },
      "execution_count": null,
      "outputs": [
        {
          "output_type": "execute_result",
          "data": {
            "text/plain": [
              "Text(0.5, 0, 'r')"
            ]
          },
          "metadata": {},
          "execution_count": 16
        },
        {
          "output_type": "display_data",
          "data": {
            "text/plain": [
              "<Figure size 432x288 with 1 Axes>"
            ],
            "image/png": "[encoded data removed]"
          },
          "metadata": {
            "needs_background": "light"
          }
        }
      ]
    },
    {
      "cell_type": "code",
      "execution_count": null,
      "metadata": {
        "colab": {
          "base_uri": "https://localhost:8080/"
        },
        "id": "iZMhZEw6D82X",
        "outputId": "c8e91103-80f4-4922-e2c5-f89439b01189"
      },
      "outputs": [
        {
          "output_type": "execute_result",
          "data": {
            "text/plain": [
              " 0.29    942.954241\n",
              " 0.24    779.845461\n",
              " 0.19    661.297079\n",
              " 0.14    590.964503\n",
              " 0.09    546.338519\n",
              " 0.04    527.628585\n",
              "-0.01    531.753030\n",
              "-0.06    578.865959\n",
              "-0.11    648.157033\n",
              "-0.16    736.065689\n",
              "dtype: float64"
            ]
          },
          "metadata": {},
          "execution_count": 21
        }
      ],
      "source": [
        "df.apply(np.mean, axis = 0)"
      ]
    },
    {
      "cell_type": "code",
      "source": [
        "df.apply(np.median, axis = 0)"
      ],
      "metadata": {
        "colab": {
          "base_uri": "https://localhost:8080/"
        },
        "id": "A3xJKkcmyTVG",
        "outputId": "a76b3a95-42a4-4be9-84c5-1b7b56e996b4"
      },
      "execution_count": null,
      "outputs": [
        {
          "output_type": "execute_result",
          "data": {
            "text/plain": [
              " 0.29    725.164510\n",
              " 0.24    662.181271\n",
              " 0.19    620.591120\n",
              " 0.14    584.721060\n",
              " 0.09    545.547163\n",
              " 0.04    511.325573\n",
              "-0.01    477.956868\n",
              "-0.06    461.569322\n",
              "-0.11    451.772132\n",
              "-0.16    412.254189\n",
              "dtype: float64"
            ]
          },
          "metadata": {},
          "execution_count": 22
        }
      ]
    },
    {
      "cell_type": "code",
      "execution_count": null,
      "metadata": {
        "colab": {
          "background_save": true
        },
        "id": "mpxt0MBKC9fi",
        "outputId": "80cde904-c418-4d64-df89-486b7c234d42"
      },
      "outputs": [
        {
          "data": {
            "image/png": "[encoded data removed]",
            "text/plain": [
              "<Figure size 432x288 with 1 Axes>"
            ]
          },
          "metadata": {},
          "output_type": "display_data"
        }
      ],
      "source": [
        "df = pd.DataFrame(performance_R, columns = r_list)\n",
        "df.boxplot()\n",
        "plt.xlabel(\"r\")\n",
        "plt.savefig('var_r_box_pc.eps', format='eps')\n",
        "df.to_csv('var_r_pc.csv')"
      ]
    },
    {
      "cell_type": "markdown",
      "source": [
        "###$X_T(\\sigma)$ with $\\gamma < 1$"
      ],
      "metadata": {
        "id": "gGY_EYvDZUc0"
      }
    },
    {
      "cell_type": "code",
      "execution_count": null,
      "metadata": {
        "colab": {
          "base_uri": "https://localhost:8080/",
          "height": 446
        },
        "id": "n7QOaQCmRwtm",
        "outputId": "8e4ed99d-8501-41ce-d371-3346c0e56849"
      },
      "outputs": [
        {
          "output_type": "stream",
          "name": "stdout",
          "text": [
            "sigma =  0.5 , qualified?  True\n",
            "sigma =  0.6 , qualified?  True\n",
            "sigma =  0.7 , qualified?  True\n",
            "sigma =  0.8 , qualified?  True\n",
            "sigma =  0.9 , qualified?  True\n",
            "sigma =  1.0 , qualified?  True\n",
            "sigma =  1.1 , qualified?  True\n",
            "sigma =  1.2 , qualified?  True\n"
          ]
        },
        {
          "output_type": "stream",
          "name": "stderr",
          "text": [
            "The PostScript backend does not support transparency; partially transparent artists will be rendered opaque.\n",
            "The PostScript backend does not support transparency; partially transparent artists will be rendered opaque.\n"
          ]
        },
        {
          "output_type": "display_data",
          "data": {
            "text/plain": [
              "<Figure size 432x288 with 1 Axes>"
            ],
            "image/png": "[encoded data removed]"
          },
          "metadata": {
            "needs_background": "light"
          }
        }
      ],
      "source": [
        "X, K, mu, r, sigma, gamma, rho, T, M = 1000, 1, 0.1, 0.05, 0.4, 0.5, 0.05, 1, 1000\n",
        "sig_list = np.arange(0.5, 1.3, 0.1)\n",
        "sig_list = [round(num, 2) for num in sig_list]\n",
        "results_sig = np.zeros((M, len(sig_list)))\n",
        "performance_SIG = np.zeros((100, len(sig_list)))\n",
        "\n",
        "count = 0\n",
        "for sigma in sig_list:\n",
        "  print(\"sigma = \", sigma, \", qualified? \", ifQualify(r, gamma, rho, mu, sigma, K, T, 0))\n",
        "  optimaldata = OptimalWealthSimulation(X = 1000, K = 1.0, mu=0.1, r=0.05, sigma=sigma, gamma=0.5, rho = 0.05, N=1000, M=1000, T=1)\n",
        "  #performance_sig = np.zeros(100)\n",
        "  #for i in range(100):\n",
        "  #  optimaldata = OptimalWealthSimulation(X = 1000, K = 1, mu=0.1, r=0.05, sigma=sigma, gamma=0.05, rho = 0.05, N=1000, M=1000, T=1)\n",
        "  #  alpha = a(r, gamma, rho, mu, sigma)\n",
        "  #  optimal_mean, _ = performance(data = optimaldata, K=1, gamma=0.05, r=0.05, mu=0.1, rho = 0.05, sigma = sigma, T=1, N =1000, M=1000, C=c)\n",
        "  #  performance_sig[i] = optimal_mean\n",
        "\n",
        "  #performance_SIG[:, count] = performance_sig\n",
        "  results_sig[:, count] = optimaldata.iloc[-1]\n",
        "  plt.hist(optimaldata.iloc[-1], bins = 50, label = \"sigma = \" + str(sigma))\n",
        "  count += 1\n",
        "plt.legend(loc = \"upper right\")\n",
        "plt.savefig('var_sig_hist.eps', format='eps')"
      ]
    },
    {
      "cell_type": "code",
      "source": [
        "df = pd.DataFrame(results_sig, columns=sig_list)\n",
        "df.boxplot()\n",
        "plt.savefig('var_sig_box.eps', format='eps')"
      ],
      "metadata": {
        "colab": {
          "base_uri": "https://localhost:8080/",
          "height": 268
        },
        "id": "egWzlM5TXj5q",
        "outputId": "eaa19b14-fb70-4abf-e319-3addb19aa160"
      },
      "execution_count": null,
      "outputs": [
        {
          "output_type": "display_data",
          "data": {
            "text/plain": [
              "<Figure size 432x288 with 1 Axes>"
            ],
            "image/png": "[encoded data removed]"
          },
          "metadata": {
            "needs_background": "light"
          }
        }
      ]
    },
    {
      "cell_type": "code",
      "execution_count": null,
      "metadata": {
        "colab": {
          "base_uri": "https://localhost:8080/",
          "height": 265
        },
        "id": "7dn65RnkHUQC",
        "outputId": "69926ac4-3d22-4883-91fa-edae0df7e32a"
      },
      "outputs": [
        {
          "data": {
            "image/png": "[encoded data removed]",
            "text/plain": [
              "<Figure size 432x288 with 1 Axes>"
            ]
          },
          "metadata": {},
          "output_type": "display_data"
        }
      ],
      "source": [
        "df = pd.DataFrame(results_sig, columns=sig_list)\n",
        "df.boxplot()\n",
        "plt.savefig('var_sig_box.eps', format='eps')"
      ]
    },
    {
      "cell_type": "code",
      "source": [
        "df.apply(np.mean, axis = 0)"
      ],
      "metadata": {
        "colab": {
          "base_uri": "https://localhost:8080/"
        },
        "id": "wWfvP8t8Wz17",
        "outputId": "2208f3e0-b187-462c-c8fa-9846b47dbd4b"
      },
      "execution_count": null,
      "outputs": [
        {
          "output_type": "execute_result",
          "data": {
            "text/plain": [
              "0.1    883.536683\n",
              "0.2    598.240145\n",
              "0.3    549.158784\n",
              "0.4    542.135003\n",
              "0.5    529.242704\n",
              "0.6    532.889100\n",
              "0.7    528.371687\n",
              "0.8    520.979224\n",
              "0.9    524.560252\n",
              "1.0    522.484768\n",
              "1.1    518.426440\n",
              "1.2    521.187887\n",
              "dtype: float64"
            ]
          },
          "metadata": {},
          "execution_count": 41
        }
      ]
    },
    {
      "cell_type": "code",
      "source": [
        "df.apply(np.median, axis = 0)"
      ],
      "metadata": {
        "colab": {
          "base_uri": "https://localhost:8080/"
        },
        "id": "EC4MV8vDW0_P",
        "outputId": "258debd9-a887-47c3-c3b9-601e68434b15"
      },
      "execution_count": null,
      "outputs": [
        {
          "output_type": "execute_result",
          "data": {
            "text/plain": [
              "0.1    532.636157\n",
              "0.2    535.221047\n",
              "0.3    517.301916\n",
              "0.4    526.177818\n",
              "0.5    518.417671\n",
              "0.6    523.711079\n",
              "0.7    523.190909\n",
              "0.8    518.349642\n",
              "0.9    520.596992\n",
              "1.0    518.626573\n",
              "1.1    515.065176\n",
              "1.2    519.006491\n",
              "dtype: float64"
            ]
          },
          "metadata": {},
          "execution_count": 42
        }
      ]
    },
    {
      "cell_type": "code",
      "source": [
        "df.apply(np.std, axis = 0)"
      ],
      "metadata": {
        "id": "Iek7XBewW1GW"
      },
      "execution_count": null,
      "outputs": []
    },
    {
      "cell_type": "code",
      "execution_count": null,
      "metadata": {
        "colab": {
          "base_uri": "https://localhost:8080/",
          "height": 279
        },
        "id": "LQnhHZ1WKgG4",
        "outputId": "768132f1-d38c-4e6e-f461-224829354440"
      },
      "outputs": [
        {
          "data": {
            "image/png": "[encoded data removed]",
            "text/plain": [
              "<Figure size 432x288 with 1 Axes>"
            ]
          },
          "metadata": {},
          "output_type": "display_data"
        }
      ],
      "source": [
        "df = pd.DataFrame(performance_SIG[:, 1:-1], columns = sig_list[1:-1])\n",
        "df.boxplot()\n",
        "plt.xlabel(\"sig\")\n",
        "plt.savefig('var_sig_box_pc.eps', format='eps')\n",
        "df.to_csv('var_sig_pc.csv')"
      ]
    },
    {
      "cell_type": "markdown",
      "source": [
        "###$X_T(\\sigma)$ with $\\gamma > 1$"
      ],
      "metadata": {
        "id": "mmZ25Sn0PmRF"
      }
    },
    {
      "cell_type": "code",
      "source": [
        "X, K, mu, r, sigma, gamma, rho, T, M = 1000, 1, 0.1, 0.05, 0.4, 0.5, 0.05, 1, 1000\n",
        "sig_list = np.arange(0.5, 1.3, 0.1)\n",
        "sig_list = [round(num, 2) for num in sig_list]\n",
        "results_sig = np.zeros((M, len(sig_list)))\n",
        "performance_SIG = np.zeros((100, len(sig_list)))\n",
        "\n",
        "count = 0\n",
        "for sigma in sig_list:\n",
        "  print(\"sigma = \", sigma, \", qualified? \", ifQualify(r, gamma, rho, mu, sigma, K, T, 0))\n",
        "  optimaldata = OptimalWealthSimulation(X = 1000, K = 1.0, mu=0.1, r=0.05, sigma=sigma, gamma=1.5, rho = 0.05, N=1000, M=1000, T=1)\n",
        "  #performance_sig = np.zeros(100)\n",
        "  #for i in range(100):\n",
        "  #  optimaldata = OptimalWealthSimulation(X = 1000, K = 1, mu=0.1, r=0.05, sigma=sigma, gamma=0.05, rho = 0.05, N=1000, M=1000, T=1)\n",
        "  #  alpha = a(r, gamma, rho, mu, sigma)\n",
        "  #  optimal_mean, _ = performance(data = optimaldata, K=1, gamma=0.05, r=0.05, mu=0.1, rho = 0.05, sigma = sigma, T=1, N =1000, M=1000, C=c)\n",
        "  #  performance_sig[i] = optimal_mean\n",
        "\n",
        "  #performance_SIG[:, count] = performance_sig\n",
        "  results_sig[:, count] = optimaldata.iloc[-1]\n",
        "  plt.hist(optimaldata.iloc[-1], bins = 50, label = \"sigma = \" + str(sigma))\n",
        "  count += 1\n",
        "plt.legend(loc = \"upper right\")\n",
        "plt.savefig('var_sig_hist.eps', format='eps')"
      ],
      "metadata": {
        "colab": {
          "base_uri": "https://localhost:8080/",
          "height": 446
        },
        "id": "GHHvhRvGPh_R",
        "outputId": "d4946b32-47ae-4c29-9212-922f560dfee5"
      },
      "execution_count": null,
      "outputs": [
        {
          "output_type": "stream",
          "name": "stdout",
          "text": [
            "sigma =  0.5 , qualified?  True\n",
            "sigma =  0.6 , qualified?  True\n",
            "sigma =  0.7 , qualified?  True\n",
            "sigma =  0.8 , qualified?  True\n",
            "sigma =  0.9 , qualified?  True\n",
            "sigma =  1.0 , qualified?  True\n",
            "sigma =  1.1 , qualified?  True\n",
            "sigma =  1.2 , qualified?  True\n"
          ]
        },
        {
          "output_type": "stream",
          "name": "stderr",
          "text": [
            "The PostScript backend does not support transparency; partially transparent artists will be rendered opaque.\n",
            "The PostScript backend does not support transparency; partially transparent artists will be rendered opaque.\n"
          ]
        },
        {
          "output_type": "display_data",
          "data": {
            "text/plain": [
              "<Figure size 432x288 with 1 Axes>"
            ],
            "image/png": "[encoded data removed]"
          },
          "metadata": {
            "needs_background": "light"
          }
        }
      ]
    },
    {
      "cell_type": "code",
      "source": [
        "df = pd.DataFrame(results_sig, columns=sig_list)\n",
        "df.boxplot()\n",
        "plt.savefig('var_sig_box.eps', format='eps')"
      ],
      "metadata": {
        "colab": {
          "base_uri": "https://localhost:8080/",
          "height": 265
        },
        "id": "YnVWhCWgQCl5",
        "outputId": "51a78c75-9409-4dc2-9fa5-87d941df7dca"
      },
      "execution_count": null,
      "outputs": [
        {
          "output_type": "display_data",
          "data": {
            "text/plain": [
              "<Figure size 432x288 with 1 Axes>"
            ],
            "image/png": "[encoded data removed]"
          },
          "metadata": {
            "needs_background": "light"
          }
        }
      ]
    },
    {
      "cell_type": "markdown",
      "source": [
        "###$X_T(\\gamma) with K >= 1$ "
      ],
      "metadata": {
        "id": "9pN_HFvYf-Zk"
      }
    },
    {
      "cell_type": "code",
      "execution_count": null,
      "metadata": {
        "colab": {
          "base_uri": "https://localhost:8080/",
          "height": 456
        },
        "id": "yRgLkT_mSeiI",
        "outputId": "68b97e3d-c642-43e5-cee3-fcad97cf755c"
      },
      "outputs": [
        {
          "output_type": "stream",
          "name": "stdout",
          "text": [
            "gamma =  0.1 , qualified?  True\n",
            "gamma =  0.2 , qualified?  True\n",
            "gamma =  0.3 , qualified?  True\n",
            "gamma =  0.4 , qualified?  True\n",
            "gamma =  0.5 , qualified?  True\n",
            "gamma =  0.6 , qualified?  True\n",
            "gamma =  0.7 , qualified?  True\n",
            "gamma =  0.8 , qualified?  True\n",
            "gamma =  0.9 , qualified?  True\n"
          ]
        },
        {
          "output_type": "stream",
          "name": "stderr",
          "text": [
            "The PostScript backend does not support transparency; partially transparent artists will be rendered opaque.\n",
            "The PostScript backend does not support transparency; partially transparent artists will be rendered opaque.\n"
          ]
        },
        {
          "output_type": "display_data",
          "data": {
            "text/plain": [
              "<Figure size 432x288 with 1 Axes>"
            ],
            "image/png": "[encoded data removed]"
          },
          "metadata": {
            "needs_background": "light"
          }
        }
      ],
      "source": [
        "X, K, mu, r, sigma, gamma, rho, T, M = 1000, 1, 0.1, 0.05, 0.4, 0.05, 0.05, 1, 1000\n",
        "gamma_list = np.arange(0.1, 1, 0.1)\n",
        "gamma_list = [round(num, 2) for num in gamma_list]\n",
        "results_gamma = np.zeros((M, len(gamma_list)))\n",
        "performance_GA = np.zeros((100, len(gamma_list)))\n",
        "K  = 1.5\n",
        "count = 0\n",
        "for gamma in gamma_list:\n",
        "  print(\"gamma = \", gamma, \", qualified? \", ifQualify(r, gamma, rho, mu, sigma, K, T, 0))\n",
        "\n",
        "  optimaldata = OptimalWealthSimulation(X = 1000, K = K, mu=0.1, r=0.05, sigma=0.5, gamma=gamma, rho = 0.05, N=1000, M=1000, T=1)\n",
        "  #performance_ga = np.zeros(100)\n",
        "  #for i in range(100):\n",
        "  #  optimaldata = OptimalWealthSimulation(X = 1000, K = 1, mu=0.1, r=0.05, sigma=0.5, gamma=gamma, rho = 0.05, N=1000, M=1000, T=1)\n",
        "  #  alpha = a(r, gamma, rho, mu, sigma)\n",
        "  #  optimal_mean, _ = performance(data = optimaldata, K=1, gamma=gamma, r=0.05, mu=0.1, rho = 0.05, sigma = 0.5, T=1, N =1000, M=1000, C=c)\n",
        "  #  performance_ga[i] = optimal_mean\n",
        "  \n",
        "  #performance_GA[:, count] = performance_ga\n",
        "  results_gamma[:, count] = optimaldata.iloc[-1]\n",
        "  count += 1\n",
        "  plt.hist(optimaldata.iloc[-1], bins = 50, label = \"gamma = \" + str(gamma))\n",
        "plt.legend(loc = \"upper right\")\n",
        "plt.savefig('var_gamma_hist_largeK.eps', format='eps')"
      ]
    },
    {
      "cell_type": "code",
      "execution_count": null,
      "metadata": {
        "colab": {
          "base_uri": "https://localhost:8080/",
          "height": 279
        },
        "id": "Uz7RI5_xKs33",
        "outputId": "e03eb762-e369-4dae-a87a-08899e4e7832"
      },
      "outputs": [
        {
          "output_type": "display_data",
          "data": {
            "text/plain": [
              "<Figure size 432x288 with 1 Axes>"
            ],
            "image/png": "[encoded data removed]"
          },
          "metadata": {
            "needs_background": "light"
          }
        }
      ],
      "source": [
        "df = pd.DataFrame(results_gamma, columns = gamma_list)\n",
        "df.boxplot()\n",
        "plt.xlabel(\"gamma\")\n",
        "plt.savefig('var_gamma_box_largeK.eps', format='eps')\n",
        "#df.to_csv('var_gamma_pc.csv')"
      ]
    },
    {
      "cell_type": "code",
      "execution_count": null,
      "metadata": {
        "id": "Mqd0FxC1f8yN",
        "colab": {
          "base_uri": "https://localhost:8080/"
        },
        "outputId": "87766593-5586-4392-c795-48a079197173"
      },
      "outputs": [
        {
          "output_type": "execute_result",
          "data": {
            "text/plain": [
              "2.0    576.720812\n",
              "2.1    571.392080\n",
              "2.2    570.696797\n",
              "2.3    567.118471\n",
              "2.4    565.167218\n",
              "2.5    564.133641\n",
              "2.6    562.002604\n",
              "2.7    560.159689\n",
              "2.8    559.118326\n",
              "2.9    557.475338\n",
              "dtype: float64"
            ]
          },
          "metadata": {},
          "execution_count": 61
        }
      ],
      "source": [
        "df.apply(np.mean)"
      ]
    },
    {
      "cell_type": "code",
      "source": [
        "df.apply(np.median)"
      ],
      "metadata": {
        "colab": {
          "base_uri": "https://localhost:8080/"
        },
        "id": "KLfmWz-m8EIr",
        "outputId": "49659144-8959-4f43-c91e-1685ad37caea"
      },
      "execution_count": null,
      "outputs": [
        {
          "output_type": "execute_result",
          "data": {
            "text/plain": [
              "0.1    688.934403\n",
              "0.2    882.010082\n",
              "0.3    817.847239\n",
              "0.4    769.220555\n",
              "0.5    728.730415\n",
              "0.6    692.909366\n",
              "0.7    670.150040\n",
              "0.8    648.774711\n",
              "0.9    639.114441\n",
              "1.0    623.591929\n",
              "1.1    615.802093\n",
              "1.2    612.781108\n",
              "1.3    602.756709\n",
              "1.4    595.846015\n",
              "dtype: float64"
            ]
          },
          "metadata": {},
          "execution_count": 56
        }
      ]
    },
    {
      "cell_type": "code",
      "source": [
        "df.apply(np.std)"
      ],
      "metadata": {
        "colab": {
          "base_uri": "https://localhost:8080/"
        },
        "id": "53qDPkADKb3w",
        "outputId": "f15472fd-6791-4852-dd3c-6155d2171b30"
      },
      "execution_count": null,
      "outputs": [
        {
          "output_type": "execute_result",
          "data": {
            "text/plain": [
              "0.1    1338.633598\n",
              "0.2     505.999707\n",
              "0.3     289.133218\n",
              "0.4     192.524512\n",
              "0.5     141.449752\n",
              "0.6     119.245255\n",
              "0.7      96.432888\n",
              "0.8      83.082697\n",
              "0.9      72.342744\n",
              "1.0      63.257968\n",
              "1.1      55.913713\n",
              "1.2      49.163859\n",
              "1.3      45.493389\n",
              "1.4      43.657991\n",
              "dtype: float64"
            ]
          },
          "metadata": {},
          "execution_count": 58
        }
      ]
    },
    {
      "cell_type": "markdown",
      "source": [
        "###$X_T(\\gamma) with K < 1$ "
      ],
      "metadata": {
        "id": "BnofyIRbgPEu"
      }
    },
    {
      "cell_type": "code",
      "source": [
        "X, K, mu, r, sigma, gamma, rho, T, M = 1000, 1, 0.1, 0.05, 0.4, 0.05, 0.05, 1, 1000\n",
        "gamma_list = np.arange(0.7, 1.9, 0.1)\n",
        "gamma_list = [round(num, 2) for num in gamma_list]\n",
        "results_gamma = np.zeros((M, len(gamma_list)))\n",
        "performance_GA = np.zeros((100, len(gamma_list)))\n",
        "K = 0.5\n",
        "\n",
        "count = 0\n",
        "for gamma in gamma_list:\n",
        "  print(\"gamma = \", gamma, \", qualified? \", ifQualify(r, gamma, rho, mu, sigma, K, T, 0))\n",
        "\n",
        "  optimaldata = OptimalWealthSimulation(X = 1000, K = K, mu=0.1, r=0.05, sigma=0.5, gamma=gamma, rho = 0.05, N=1000, M=1000, T=1)\n",
        "  #performance_ga = np.zeros(100)\n",
        "  #for i in range(100):\n",
        "  #  optimaldata = OptimalWealthSimulation(X = 1000, K = 1, mu=0.1, r=0.05, sigma=0.5, gamma=gamma, rho = 0.05, N=1000, M=1000, T=1)\n",
        "  #  alpha = a(r, gamma, rho, mu, sigma)\n",
        "  #  optimal_mean, _ = performance(data = optimaldata, K=1, gamma=gamma, r=0.05, mu=0.1, rho = 0.05, sigma = 0.5, T=1, N =1000, M=1000, C=c)\n",
        "  #  performance_ga[i] = optimal_mean\n",
        "  \n",
        "  #performance_GA[:, count] = performance_ga\n",
        "  results_gamma[:, count] = optimaldata.iloc[-1]\n",
        "  count += 1\n",
        "  plt.hist(optimaldata.iloc[-1], bins = 50, label = \"gamma = \" + str(gamma))\n",
        "plt.legend(loc = \"upper right\")\n",
        "plt.savefig('var_gamma_hist_smallK.eps', format='eps')"
      ],
      "metadata": {
        "colab": {
          "base_uri": "https://localhost:8080/",
          "height": 519
        },
        "id": "nrS5JzogDcNp",
        "outputId": "b02e0e19-dfb8-44d8-f721-42fe08d54f6e"
      },
      "execution_count": null,
      "outputs": [
        {
          "output_type": "stream",
          "name": "stdout",
          "text": [
            "gamma =  0.7 , qualified?  True\n",
            "gamma =  0.8 , qualified?  True\n",
            "gamma =  0.9 , qualified?  True\n",
            "gamma =  1.0 , qualified?  True\n",
            "gamma =  1.1 , qualified?  True\n",
            "gamma =  1.2 , qualified?  True\n",
            "gamma =  1.3 , qualified?  True\n",
            "gamma =  1.4 , qualified?  True\n",
            "gamma =  1.5 , qualified?  True\n",
            "gamma =  1.6 , qualified?  True\n",
            "gamma =  1.7 , qualified?  True\n",
            "gamma =  1.8 , qualified?  True\n"
          ]
        },
        {
          "output_type": "stream",
          "name": "stderr",
          "text": [
            "The PostScript backend does not support transparency; partially transparent artists will be rendered opaque.\n",
            "The PostScript backend does not support transparency; partially transparent artists will be rendered opaque.\n"
          ]
        },
        {
          "output_type": "display_data",
          "data": {
            "text/plain": [
              "<Figure size 432x288 with 1 Axes>"
            ],
            "image/png": "[encoded data removed]"
          },
          "metadata": {
            "needs_background": "light"
          }
        }
      ]
    },
    {
      "cell_type": "code",
      "execution_count": null,
      "metadata": {
        "colab": {
          "base_uri": "https://localhost:8080/",
          "height": 265
        },
        "id": "QCyYCksypb3R",
        "outputId": "a71e8aa0-7214-4a4c-f9fc-8dee2d3639fa"
      },
      "outputs": [
        {
          "output_type": "display_data",
          "data": {
            "text/plain": [
              "<Figure size 432x288 with 1 Axes>"
            ],
            "image/png": "[encoded data removed]"
          },
          "metadata": {
            "needs_background": "light"
          }
        }
      ],
      "source": [
        "df = pd.DataFrame(results_gamma, columns=gamma_list)\n",
        "df.boxplot()\n",
        "plt.savefig('var_gamma_box_smallK.eps', format='eps')"
      ]
    },
    {
      "cell_type": "code",
      "source": [
        "df.apply(np.mean)"
      ],
      "metadata": {
        "colab": {
          "base_uri": "https://localhost:8080/"
        },
        "id": "XI3zqIpzQTiL",
        "outputId": "efcbf87e-1dee-4b0e-d08b-ab363a3bc65b"
      },
      "execution_count": null,
      "outputs": [
        {
          "output_type": "execute_result",
          "data": {
            "text/plain": [
              "0.7    282.283904\n",
              "0.8    310.998382\n",
              "0.9    330.538046\n",
              "1.0    347.833063\n",
              "1.1    363.476403\n",
              "1.2    374.511580\n",
              "1.3    385.412324\n",
              "1.4    392.183056\n",
              "1.5    402.463963\n",
              "1.6    408.494605\n",
              "1.7    414.180607\n",
              "1.8    421.921105\n",
              "dtype: float64"
            ]
          },
          "metadata": {},
          "execution_count": 21
        }
      ]
    },
    {
      "cell_type": "code",
      "source": [
        "df.apply(np.std)"
      ],
      "metadata": {
        "colab": {
          "base_uri": "https://localhost:8080/"
        },
        "id": "d6TNDfqFQV_8",
        "outputId": "46390cb8-5685-4ec2-b31a-ff7b8334b146"
      },
      "execution_count": null,
      "outputs": [
        {
          "output_type": "execute_result",
          "data": {
            "text/plain": [
              "0.7    41.534375\n",
              "0.8    40.290983\n",
              "0.9    37.224451\n",
              "1.0    34.139496\n",
              "1.1    33.189601\n",
              "1.2    32.382445\n",
              "1.3    28.722650\n",
              "1.4    27.882969\n",
              "1.5    27.280301\n",
              "1.6    25.270241\n",
              "1.7    24.239185\n",
              "1.8    23.465886\n",
              "dtype: float64"
            ]
          },
          "metadata": {},
          "execution_count": 22
        }
      ]
    },
    {
      "cell_type": "code",
      "source": [
        "df.apply(np.median)"
      ],
      "metadata": {
        "colab": {
          "base_uri": "https://localhost:8080/"
        },
        "id": "2jSfCXPtQX8b",
        "outputId": "b00dab5c-734d-426b-dcd7-c8d2f164a178"
      },
      "execution_count": null,
      "outputs": [
        {
          "output_type": "execute_result",
          "data": {
            "text/plain": [
              "0.7    278.945960\n",
              "0.8    307.643232\n",
              "0.9    329.237861\n",
              "1.0    345.556332\n",
              "1.1    363.518805\n",
              "1.2    372.707281\n",
              "1.3    385.344046\n",
              "1.4    391.741838\n",
              "1.5    401.880195\n",
              "1.6    408.238226\n",
              "1.7    414.530305\n",
              "1.8    421.255544\n",
              "dtype: float64"
            ]
          },
          "metadata": {},
          "execution_count": 23
        }
      ]
    },
    {
      "cell_type": "markdown",
      "source": [
        "###$X_T(\\rho)$"
      ],
      "metadata": {
        "id": "rb1vpHV0Z3Mx"
      }
    },
    {
      "cell_type": "code",
      "execution_count": null,
      "metadata": {
        "colab": {
          "base_uri": "https://localhost:8080/",
          "height": 456
        },
        "id": "UcG5MrOxIZ-5",
        "outputId": "deeabb9d-f32e-496c-b608-7b2343fc3516"
      },
      "outputs": [
        {
          "output_type": "stream",
          "name": "stdout",
          "text": [
            "rho =  0.1 , qualified?  True\n",
            "rho =  0.2 , qualified?  True\n",
            "rho =  0.3 , qualified?  True\n",
            "rho =  0.4 , qualified?  True\n",
            "rho =  0.5 , qualified?  True\n",
            "rho =  0.6 , qualified?  True\n",
            "rho =  0.7 , qualified?  True\n",
            "rho =  0.8 , qualified?  True\n",
            "rho =  0.9 , qualified?  True\n",
            "rho =  1.0 , qualified?  True\n"
          ]
        },
        {
          "output_type": "execute_result",
          "data": {
            "text/plain": [
              "<matplotlib.legend.Legend at 0x7ff06a1e5850>"
            ]
          },
          "metadata": {},
          "execution_count": 42
        },
        {
          "output_type": "display_data",
          "data": {
            "text/plain": [
              "<Figure size 432x288 with 1 Axes>"
            ],
            "image/png": "[encoded data removed]"
          },
          "metadata": {
            "needs_background": "light"
          }
        }
      ],
      "source": [
        "X, K, mu, r, sigma, gamma, rho, T, M = 1000, 1, 0.1, 0.05, 0.4, 0.05, 0.05, 1, 1000\n",
        "rho_list = np.arange(0.1, 1.1, 0.1)\n",
        "rho_list = [round(num, 2) for num in rho_list]\n",
        "results_rho = np.zeros((M, len(rho_list)))\n",
        "performance_RHO = np.zeros((100, len(rho_list)))\n",
        "count = 0\n",
        "for rho in rho_list:\n",
        "  print(\"rho = \", rho, \", qualified? \", ifQualify(r, gamma, rho, mu, sigma, K, T, 0))\n",
        "  optimaldata = OptimalWealthSimulation(X = 1000, K = 1, mu=0.1, r=0.05, sigma=0.5, gamma=0.05, rho = rho, N=1000, M=1000, T=1)\n",
        "  #performance_rho = np.zeros(100)\n",
        "  #for i in range(100):\n",
        "    \n",
        "  #  alpha = a(r, gamma, rho, mu, sigma)\n",
        "  #  optimal_mean, _ = performance(data = optimaldata, K=1, gamma=0.05, r=0.05, mu=0.1, rho = rho, sigma = 0.5, T=1, N =1000, M=1000, C=c)\n",
        "  #  performance_rho[i] = optimal_mean\n",
        "\n",
        "  #performance_RHO[:, count] = performance_rho\n",
        "  results_rho[:, count] = optimaldata.iloc[-1]\n",
        "  count += 1\n",
        "  plt.hist(optimaldata.iloc[-1],range = [1,2000], bins = 50, label = \"rho = \" + str(rho))\n",
        "plt.legend(loc = \"upper right\")\n",
        "#plt.savefig('var_rho_hist.eps', format='eps')"
      ]
    },
    {
      "cell_type": "code",
      "source": [
        "df = pd.DataFrame(results_rho, columns = rho_list)\n",
        "df.boxplot()\n",
        "plt.xlabel(\"rho\")\n",
        "plt.savefig('var_rho_box_pc.eps', format='eps')\n",
        "df.to_csv('var_rho_pc.csv')"
      ],
      "metadata": {
        "colab": {
          "base_uri": "https://localhost:8080/",
          "height": 279
        },
        "id": "pC8nVvqnW7td",
        "outputId": "9e297652-9500-4ead-ac00-5de2786325b1"
      },
      "execution_count": null,
      "outputs": [
        {
          "output_type": "display_data",
          "data": {
            "text/plain": [
              "<Figure size 432x288 with 1 Axes>"
            ],
            "image/png": "[encoded data removed]"
          },
          "metadata": {
            "needs_background": "light"
          }
        }
      ]
    },
    {
      "cell_type": "code",
      "source": [
        "df.apply(np.median, axis = 0)"
      ],
      "metadata": {
        "colab": {
          "base_uri": "https://localhost:8080/"
        },
        "id": "-sX-ioQ3f48t",
        "outputId": "d4a100ae-10bb-4e68-9cd1-c928915882d5"
      },
      "execution_count": null,
      "outputs": [
        {
          "output_type": "execute_result",
          "data": {
            "text/plain": [
              "0.1    109.590928\n",
              "0.2     58.325944\n",
              "0.3     20.016115\n",
              "0.4      5.491110\n",
              "0.5      0.983923\n",
              "0.6      0.184888\n",
              "0.7      0.028769\n",
              "0.8      0.004085\n",
              "0.9      0.000588\n",
              "1.0      0.000097\n",
              "dtype: float64"
            ]
          },
          "metadata": {},
          "execution_count": 53
        }
      ]
    },
    {
      "cell_type": "code",
      "source": [
        "df.apply(np.mean, axis = 0)"
      ],
      "metadata": {
        "colab": {
          "base_uri": "https://localhost:8080/"
        },
        "id": "50-RQuqCCkPY",
        "outputId": "3ab0f6b0-923c-44fe-8885-89f383cd0d12"
      },
      "execution_count": null,
      "outputs": [
        {
          "output_type": "execute_result",
          "data": {
            "text/plain": [
              "0.1    730.584321\n",
              "0.2    486.043494\n",
              "0.3    133.734436\n",
              "0.4     40.885858\n",
              "0.5     17.375831\n",
              "0.6      0.882937\n",
              "0.7      0.149065\n",
              "0.8      0.025630\n",
              "0.9      0.004034\n",
              "1.0      0.000701\n",
              "dtype: float64"
            ]
          },
          "metadata": {},
          "execution_count": 54
        }
      ]
    },
    {
      "cell_type": "code",
      "source": [
        "df.apply(np.std, axis = 0)"
      ],
      "metadata": {
        "colab": {
          "base_uri": "https://localhost:8080/"
        },
        "id": "cbZshAuODVYC",
        "outputId": "78bac57e-7b9a-4bc5-eec4-44e8e61216fd"
      },
      "execution_count": null,
      "outputs": [
        {
          "output_type": "execute_result",
          "data": {
            "text/plain": [
              "0.1    2573.594431\n",
              "0.2    2533.170474\n",
              "0.3     453.524412\n",
              "0.4     220.391248\n",
              "0.5     193.110941\n",
              "0.6       3.341793\n",
              "0.7       0.441468\n",
              "0.8       0.110619\n",
              "0.9       0.015171\n",
              "1.0       0.002954\n",
              "dtype: float64"
            ]
          },
          "metadata": {},
          "execution_count": 55
        }
      ]
    },
    {
      "cell_type": "code",
      "execution_count": null,
      "metadata": {
        "colab": {
          "base_uri": "https://localhost:8080/",
          "height": 279
        },
        "id": "kMpNr2Eff4vR",
        "outputId": "1ce86cde-be3e-43ba-c402-b154b1568dac"
      },
      "outputs": [
        {
          "data": {
            "image/png": "[encoded data removed]",
            "text/plain": [
              "<Figure size 432x288 with 1 Axes>"
            ]
          },
          "metadata": {},
          "output_type": "display_data"
        }
      ],
      "source": [
        "df = pd.DataFrame(performance_RHO, columns = rho_list)\n",
        "df.boxplot()\n",
        "plt.xlabel(\"rho\")\n",
        "plt.savefig('var_rho_box_pc.eps', format='eps')\n",
        "df.to_csv('var_rho_pc.csv')"
      ]
    },
    {
      "cell_type": "code",
      "execution_count": null,
      "metadata": {
        "colab": {
          "base_uri": "https://localhost:8080/",
          "height": 265
        },
        "id": "KJpUB2J4rLNi",
        "outputId": "1ca30d26-a162-4684-a3da-7c008b364436"
      },
      "outputs": [
        {
          "data": {
            "image/png": "[encoded data removed]",
            "text/plain": [
              "<Figure size 432x288 with 1 Axes>"
            ]
          },
          "metadata": {},
          "output_type": "display_data"
        }
      ],
      "source": [
        "df = pd.DataFrame(results_rho, columns=rho_list)\n",
        "df.boxplot()\n",
        "plt.savefig('var_rho_box.eps', format='eps')"
      ]
    },
    {
      "cell_type": "code",
      "execution_count": null,
      "metadata": {
        "id": "MAlBkwPGDDIt"
      },
      "outputs": [],
      "source": [
        ""
      ]
    }
  ],
  "metadata": {
    "colab": {
      "collapsed_sections": [],
      "name": "Copy of StochasticControl.ipynb",
      "provenance": []
    },
    "interpreter": {
      "hash": "aee8b7b246df8f9039afb4144a1f6fd8d2ca17a180786b69acc140d282b71a49"
    },
    "kernelspec": {
      "display_name": "Python 3.9.7 64-bit",
      "language": "python",
      "name": "python3"
    },
    "language_info": {
      "codemirror_mode": {
        "name": "ipython",
        "version": 3
      },
      "file_extension": ".py",
      "mimetype": "text/x-python",
      "name": "python",
      "nbconvert_exporter": "python",
      "pygments_lexer": "ipython3",
      "version": "3.9.7"
    }
  },
  "nbformat": 4,
  "nbformat_minor": 0
}